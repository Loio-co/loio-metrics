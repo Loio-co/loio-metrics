{
 "nbformat": 4,
 "nbformat_minor": 0,
 "metadata": {
  "colab": {
   "name": "Loio-metrics_demo.ipynb",
   "provenance": []
  },
  "kernelspec": {
   "name": "python3",
   "language": "python",
   "display_name": "Python 3"
  }
 },
 "cells": [
  {
   "cell_type": "markdown",
   "metadata": {
    "id": "iDu6rUgJSMWC",
    "colab_type": "text"
   },
   "source": [
    "[![Open In Colab](https://colab.research.google.com/assets/colab-badge.svg)](https://colab.research.google.com/github/Loio-co/loio-metrics/blob/master/notebooks/Loio_metrics_demo.ipynb)\n",
    "\n",
    "## Install the loio_nlp package"
   ]
  },
  {
   "cell_type": "code",
   "metadata": {
    "id": "dSbjQsngOLwP",
    "colab_type": "code",
    "colab": {
     "base_uri": "https://localhost:8080/",
     "height": 51
    },
    "outputId": "55311edd-07b0-41e7-d850-4fa5b1d6d0d5"
   },
   "source": [
    "!python -V\n",
    "!pip install git+https://github.com/Loio-co/loio-metrics.git>null"
   ],
   "execution_count": 1,
   "outputs": [
    {
     "output_type": "stream",
     "text": [
      "Python 3.6.9\n",
      "  Running command git clone -q https://github.com/Loio-co/loio-metrics.git /tmp/pip-req-build-dxt8wkwb\n"
     ],
     "name": "stdout"
    }
   ]
  },
  {
   "cell_type": "code",
   "metadata": {
    "id": "d6f1dDSwOjWQ",
    "colab_type": "code",
    "colab": {
     "base_uri": "https://localhost:8080/",
     "height": 35
    },
    "outputId": "6ccd63c5-e5af-4809-bd95-69363df119cc"
   },
   "source": [
    "import loio_metrics as lm\n",
    "lm.version()"
   ],
   "execution_count": 1,
   "outputs": [
    {
     "data": {
      "text/plain": "'0.0.2'"
     },
     "execution_count": 1,
     "metadata": {},
     "output_type": "execute_result"
    }
   ]
  },
  {
   "cell_type": "markdown",
   "metadata": {
    "id": "0BsAD2EeSESq",
    "colab_type": "text"
   },
   "source": [
    "## Check trivial cases\n",
    "\n",
    "To make the demo more visual, we use LTF (Loio Tagging Format). It is an XML with two tags:\n",
    "\n",
    "- &lt;body&gt; as a root tag\n",
    "- &lt;e&gt; as bounds for tagged entities"
   ]
  },
  {
   "cell_type": "code",
   "metadata": {
    "id": "RniZL8QUO4f0",
    "colab_type": "code",
    "colab": {
     "base_uri": "https://localhost:8080/",
     "height": 51
    },
    "outputId": "f9d2b72d-34d3-4ba9-9404-42845a6c2ff7"
   },
   "source": [
    "# Exact matching\n",
    "expected = '<body>To <e>be</e> or not to <e>be</e>.</body>'\n",
    "actual = '<body>To <e>be</e> or not to <e>be</e>.</body>'\n",
    "\n",
    "expected_txt, expected_spans = lm.parse_ltf(expected)\n",
    "actual_txt, actual_spans = lm.parse_ltf(actual)\n",
    "\n",
    "# We should work with the same text\n",
    "assert expected_txt == actual_txt\n",
    "\n",
    "expected_spans, actual_spans"
   ],
   "execution_count": 3,
   "outputs": [
    {
     "output_type": "execute_result",
     "data": {
      "text/plain": [
       "([Span(start=3, finish=5), Span(start=16, finish=18)],\n",
       " [Span(start=3, finish=5), Span(start=16, finish=18)])"
      ]
     },
     "metadata": {
      "tags": []
     },
     "execution_count": 3
    }
   ]
  },
  {
   "cell_type": "markdown",
   "metadata": {
    "id": "dRNHOVmwbhRk",
    "colab_type": "text"
   },
   "source": [
    "Check if we have two true positives and zero false positives/negatives:"
   ]
  },
  {
   "cell_type": "code",
   "metadata": {
    "id": "BlmFAiocaiF6",
    "colab_type": "code",
    "colab": {
     "base_uri": "https://localhost:8080/",
     "height": 34
    },
    "outputId": "a374029b-935b-415b-bc87-bdb5b0ec9237"
   },
   "source": [
    "lm.calc_counters_with_partial(actual_spans, expected_spans)"
   ],
   "execution_count": 4,
   "outputs": [
    {
     "output_type": "execute_result",
     "data": {
      "text/plain": [
       "Counters(tp=2.0, fp=0.0, fn=0.0)"
      ]
     },
     "metadata": {
      "tags": []
     },
     "execution_count": 4
    }
   ]
  },
  {
   "cell_type": "markdown",
   "metadata": {
    "id": "DA5XaODOcYpY",
    "colab_type": "text"
   },
   "source": [
    "Make this comparer as function:"
   ]
  },
  {
   "cell_type": "code",
   "metadata": {
    "id": "015gZFV8ch1S",
    "colab_type": "code",
    "colab": {}
   },
   "source": [
    "def metrics_for_ltf(expected, actual, partial_stimulation=0.75):\n",
    "  expected_txt, expected_spans = lm.parse_ltf(expected)\n",
    "  actual_txt, actual_spans = lm.parse_ltf(actual)\n",
    "\n",
    "  # We should work with the same text\n",
    "  assert expected_txt == actual_txt\n",
    "  return lm.calc_counters_with_partial(actual_spans, expected_spans, partial_stimulation)"
   ],
   "execution_count": 3,
   "outputs": []
  },
  {
   "cell_type": "markdown",
   "metadata": {
    "id": "tmECup3YdK-X",
    "colab_type": "text"
   },
   "source": [
    "Total mismatch:"
   ]
  },
  {
   "cell_type": "code",
   "metadata": {
    "id": "7zg4QJu-btje",
    "colab_type": "code",
    "colab": {
     "base_uri": "https://localhost:8080/",
     "height": 34
    },
    "outputId": "fabbb16b-b801-4de7-bd4f-eb31f7325dae"
   },
   "source": [
    "# We should have TP=0, FP=2 and FN=1\n",
    "expected = '<body>To be or <e>not</e> to be.</body>'\n",
    "actual = '<body>To <e>be</e> or not to <e>be</e>.</body>'\n",
    "\n",
    "metrics_for_ltf(expected, actual)"
   ],
   "execution_count": 6,
   "outputs": [
    {
     "output_type": "execute_result",
     "data": {
      "text/plain": [
       "Counters(tp=0.0, fp=2.0, fn=1.0)"
      ]
     },
     "metadata": {
      "tags": []
     },
     "execution_count": 6
    }
   ]
  },
  {
   "cell_type": "markdown",
   "metadata": {
    "id": "Zlu2Slqrd-qe",
    "colab_type": "text"
   },
   "source": [
    "## Lets start with partial matches"
   ]
  },
  {
   "cell_type": "code",
   "metadata": {
    "id": "alFZXzV7dsdJ",
    "colab_type": "code",
    "colab": {
     "base_uri": "https://localhost:8080/",
     "height": 68
    },
    "outputId": "8f6dd95f-4abb-4a4c-fbc9-9911200c373c"
   },
   "source": [
    "expected = '<body>To be or <e>not</e> to be.</body>'\n",
    "actual   = '<body>To be or <e>not to</e> be.</body>'\n",
    "\n",
    "# Classical approach\n",
    "print(\"Partial stimulation factor = 0:\", metrics_for_ltf(expected, actual, partial_stimulation=0.0))\n",
    "\n",
    "# Default value\n",
    "print(\"Partial stimulation factor = 0.75:\", metrics_for_ltf(expected, actual, partial_stimulation=0.75))\n",
    "\n",
    "# Minimal penalty for partial matches\n",
    "print(\"Partial stimulation factor = 1:\", metrics_for_ltf(expected, actual, partial_stimulation=1.))"
   ],
   "execution_count": 7,
   "outputs": [
    {
     "output_type": "stream",
     "text": [
      "Partial stimulation factor = 0: Counters(tp=0.0, fp=1.0, fn=1.0)\n",
      "Partial stimulation factor = 0.75: Counters(tp=0.375, fp=0.625, fn=0.625)\n",
      "Partial stimulation factor = 1: Counters(tp=0.5, fp=0.5, fn=0.5)\n"
     ],
     "name": "stdout"
    }
   ]
  },
  {
   "cell_type": "markdown",
   "metadata": {
    "id": "gy6Q6YAnfVBK",
    "colab_type": "text"
   },
   "source": [
    "## Tricky cases\n",
    "We use partial_stimulation=1 to simplify the manual checking"
   ]
  },
  {
   "cell_type": "code",
   "metadata": {
    "id": "OIRe9YOlex1b",
    "colab_type": "code",
    "colab": {
     "base_uri": "https://localhost:8080/",
     "height": 34
    },
    "outputId": "150e0b6f-8361-4a42-88c7-3f7bca4757cf"
   },
   "source": [
    "# Only the first overlapping 3/15=0.2 is accounted to ban span separating.\n",
    "expected = '<body>To <e>be or not to be</e>.</body>'\n",
    "actual   = '<body>To be or <e>not</e> <e>to</e> <e>be</e>.</body>'\n",
    "\n",
    "print(metrics_for_ltf(expected, actual, partial_stimulation=1))"
   ],
   "execution_count": 8,
   "outputs": [
    {
     "output_type": "stream",
     "text": [
      "Counters(tp=0.2, fp=2.8, fn=0.8)\n"
     ],
     "name": "stdout"
    }
   ]
  },
  {
   "cell_type": "code",
   "metadata": {
    "id": "ncA3rjdwgQp7",
    "colab_type": "code",
    "colab": {
     "base_uri": "https://localhost:8080/",
     "height": 34
    },
    "outputId": "3ed508e8-a00e-4e3e-aa2f-243a85f85644"
   },
   "source": [
    "# And vice versa\n",
    "expected = '<body>To be or <e>not</e> <e>to</e> <e>be</e>.</body>'\n",
    "actual   = '<body>To <e>be or not to be</e>.</body>'\n",
    "\n",
    "print(metrics_for_ltf(expected, actual, partial_stimulation=1))"
   ],
   "execution_count": 9,
   "outputs": [
    {
     "output_type": "stream",
     "text": [
      "Counters(tp=0.2, fp=0.8, fn=2.8)\n"
     ],
     "name": "stdout"
    }
   ]
  },
  {
   "cell_type": "markdown",
   "metadata": {
    "id": "WxvPdFSFkUgb",
    "colab_type": "code",
    "colab": {},
    "pycharm": {
     "name": "#%% md\n"
    }
   },
   "source": [
    "## Example from the article"
   ]
  },
  {
   "cell_type": "code",
   "execution_count": 5,
   "outputs": [],
   "source": [
    "expected = (\n",
    "\"<body>This DIAGNOSTIC PLATFORM BENCHMARKING STUDY AND EVALUATION AGREEMENT\"\n",
    "\" (the “Agreement”) is made and entered into as of the last date of\"\n",
    "\" signature below (the “Effective Date”), by and between <e>ProYard\"\n",
    "\" Services, a Delaware corporation having its principal place of\"\n",
    "\" business at 2140 Science Center Drive Burley, San Diego, CA, USA, ID\"\n",
    "\" 83318 (“PartyA”)</e> and <e>ZOEMENS AG, a German corporation having its\"\n",
    "\" principal place of business at Nuernbergerstrasse 89, 23626 Ratekau\"\n",
    "\" (“PartyB”)</e>.</body>\"\n",
    ")\n",
    "\n",
    "actual = (\n",
    "\"<body><e>This DIAGNOSTIC PLATFORM BENCHMARKING STUDY AND EVALUATION AGREEMENT\"\n",
    "\" (the “Agreement”)</e> is made and entered into as of the last date of\"\n",
    "\" signature below (the “Effective Date”), by and between <e>ProYard\"\n",
    "\" Services, a Delaware corporation having its principal place of\"\n",
    "\" business at 2140 Science Center Drive Burley, San Diego, CA, USA</e>, ID\"\n",
    "\" <e>83318 (“PartyA”)</e> and <e>ZOEMENS AG, a German corporation having its\"\n",
    "\" principal place of business at Nuernbergerstrasse 89, 23626 Ratekau\"\n",
    "\" (“PartyB”)</e>.</body>\"\n",
    ")"
   ],
   "metadata": {
    "collapsed": false,
    "pycharm": {
     "name": "#%%\n"
    }
   }
  },
  {
   "cell_type": "code",
   "execution_count": 6,
   "outputs": [
    {
     "name": "stdout",
     "output_type": "stream",
     "text": [
      "Counters(tp=1.6490384615384617, fp=2.3509615384615383, fn=0.3509615384615383)\n"
     ]
    }
   ],
   "source": [
    "counters = metrics_for_ltf(expected, actual)\n",
    "print(counters)"
   ],
   "metadata": {
    "collapsed": false,
    "pycharm": {
     "name": "#%%\n"
    }
   }
  },
  {
   "cell_type": "code",
   "execution_count": 7,
   "outputs": [
    {
     "data": {
      "text/plain": "(0.4122596153846154, 0.8245192307692308, 0.5496794871794872)"
     },
     "execution_count": 7,
     "metadata": {},
     "output_type": "execute_result"
    }
   ],
   "source": [
    "precision = counters.tp / (counters.tp + counters.fp)\n",
    "recall = counters.tp / (counters.tp + counters.fn)\n",
    "f1 = 2 * (precision * recall) / (precision + recall)\n",
    "precision, recall, f1"
   ],
   "metadata": {
    "collapsed": false,
    "pycharm": {
     "name": "#%%\n"
    }
   }
  },
  {
   "cell_type": "code",
   "execution_count": null,
   "outputs": [],
   "source": [
    "\n"
   ],
   "metadata": {
    "collapsed": false,
    "pycharm": {
     "name": "#%%\n"
    }
   }
  }
 ]
}